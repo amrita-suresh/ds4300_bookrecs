{
 "cells": [
  {
   "cell_type": "code",
   "execution_count": 29,
   "metadata": {},
   "outputs": [],
   "source": [
    "# import Neo4J-Python connector\n",
    "from py2neo import Graph\n",
    "# set up graph\n",
    "graph = Graph(\"http://localhost:7474/\", auth=(\"neo4j\", \"Ilb4mlds\"))"
   ]
  },
  {
   "cell_type": "code",
   "execution_count": 31,
   "metadata": {},
   "outputs": [],
   "source": [
    "import pandas as pd\n",
    "import numpy as np"
   ]
  },
  {
   "cell_type": "markdown",
   "metadata": {},
   "source": [
    "## Strategy 3: Like and Dislike\n",
    "Find all the users that like and hate the same books and return their liked book"
   ]
  },
  {
   "cell_type": "code",
   "execution_count": 167,
   "metadata": {
    "scrolled": true
   },
   "outputs": [
    {
     "name": "stdout",
     "output_type": "stream",
     "text": [
      "MATCH (b0:BX_Book{title:\"Animal Farm\"}) <- [r0:HATED] - (u:BX_User)-[r:LOVE]->(b:BX_Book{title:\"Fahrenheit 451\"}) RETURN u.ID\n"
     ]
    }
   ],
   "source": [
    "# create a dataframe that includes all books that is likened by the users that has same like_book and dislike book \n",
    "# as you\n",
    "def find_user_by_like_dislike(like_book, dislike_book):\n",
    "    # get all the users that has the like and dislike book\n",
    "    query = '''MATCH (b0:BX_Book{title:\"'''  + dislike_book + '''\"}) <- [r0:HATED] - (u:BX_User)-[r:LOVE]->(b:BX_Book{title:\"''' + like_book + '''\"}) RETURN u.ID'''\n",
    "    print(query)\n",
    "    #id_results = graph.run('''MATCH (b0:BX_Book{title:\"'''  + dislike_book + '''\"}) <- [r0:HATED] - (u:BX_User)-[r:LOVE]->(b:BX_Book{title:\"''' + like_book + \"'}) RETURN u.ID\").data()\n",
    "    id_results = graph.run(query).data()\n",
    "    data = pd.DataFrame(id_results)\n",
    "    bookDF =[]\n",
    "    # go through the list of userID, then run a cypher query to get all the book that the users like \n",
    "    # and put it in a dataframe format\n",
    "    for index, row in data.iterrows():\n",
    "        q = \"Match (u:BX_User{ID:\" + str(row[0]) + \"})-[r:LOVE]->(b:BX_Book)-[:WRITTEN_BY]->(a:Author) RETURN  b.title AS Title, r.BRating AS Rating ,a.AName as Author\"\n",
    "        book_result= graph.run(q).data()\n",
    "        d = pd.DataFrame(book_result)\n",
    "        bookDF.append(d)\n",
    "    # pull out the df from list and create a frequency count and a score accordingly\n",
    "    if len(bookDF) != 0:\n",
    "        bookDF2 = bookDF[0]\n",
    "        bookDF2['Freq'] =  bookDF2['Title'].groupby(bookDF2['Title']).transform('count')\n",
    "        bookDF2['Score'] =bookDF2['Freq'] * bookDF2['Rating']\n",
    "        return bookDF2[['Title', 'Author', 'Score']]\n",
    "    return []\n",
    "\n",
    "# Example\n",
    "find_user_by_like_dislike(\"Fahrenheit 451\", \"Animal Farm\")\n",
    "\n",
    "\n",
    "# like_book and dislike_book -> printing x recomendations\n",
    "def like_dislike_rec(like_book, dislike_book, x):\n",
    "    dataDF = find_user_by_like_dislike(like_book, dislike_book)\n",
    "    if len(dataDF) != 0:\n",
    "        df = dataDF.sort_values(by=[\"Score\"], ascending=False)\n",
    "        count = 1\n",
    "        result_str = \"\"\n",
    "   \n",
    "        for i, row in df.iterrows():\n",
    "            if i < x:\n",
    "                result_str += (str(count) + \". \" + row[\"Title\"] + \" - \" + row[\"Author\"] + '\\n') \n",
    "                count +=1\n",
    "        return print(result_str)\n",
    "    return print(\"Not enough information to provide a rec! Sorry!\")\n"
   ]
  },
  {
   "cell_type": "code",
   "execution_count": 152,
   "metadata": {},
   "outputs": [
    {
     "name": "stdout",
     "output_type": "stream",
     "text": [
      "1. Magic's Price (The Last Herald-Mage Series, Book 3) - Mercedes Lackey\n",
      "2. Number the Stars (Yearling Newbery) - Lois Lowry\n",
      "3. Weekend (Point Paperback) - Christopher Pike\n",
      "4. The Hero and the Crown - Robin McKinley\n",
      "5. The Lovely Bones: A Novel - Alice Sebold\n",
      "6. Secret Star - Nora Roberts\n",
      "7. Tonight and Always - Linda Lael Miller\n",
      "8. Fahrenheit 451 - RAY BRADBURY\n",
      "\n"
     ]
    }
   ],
   "source": [
    "like_dislike_rec(\"Fahrenheit 451\", \"Animal Farm\", 8)"
   ]
  },
  {
   "cell_type": "code",
   "execution_count": 156,
   "metadata": {},
   "outputs": [
    {
     "name": "stdout",
     "output_type": "stream",
     "text": [
      "Not enough information to provide a rec! Sorry!\n"
     ]
    }
   ],
   "source": [
    "like_dislike_rec(\"Scarlet Letter\", \"Tess of the D'Urbervilles (Wordsworth Classics)\", 8)"
   ]
  },
  {
   "cell_type": "code",
   "execution_count": 165,
   "metadata": {},
   "outputs": [
    {
     "name": "stdout",
     "output_type": "stream",
     "text": [
      "Not enough information to provide a rec! Sorry!\n"
     ]
    }
   ],
   "source": [
    "like_dislike_rec(\"Scarlet Letter\", \"Great Expectations\", 8)\n"
   ]
  },
  {
   "cell_type": "code",
   "execution_count": 168,
   "metadata": {},
   "outputs": [
    {
     "name": "stdout",
     "output_type": "stream",
     "text": [
      "MATCH (b0:BX_Book{title:\"The Wind Done Gone: A Novel\"}) <- [r0:HATED] - (u:BX_User)-[r:LOVE]->(b:BX_Book{title:\"Their Eyes Were Watching God\"}) RETURN u.ID\n",
      "1. Boys to Men: Maps for the Journey - Gregory Alan-Williams\n",
      "2. Their Eyes Were Watching God - Zora Neale Hurston\n",
      "3. The Cat in the Hat - Dr. Seuss\n",
      "4. Ethan Frome (Dover Thrift Editions) - Edith Wharton\n",
      "5. Your Blues Ain't Like Mine (Ballantine Reader's Circle) - Bebe Moore Campbell\n",
      "6. Ghosts of Mississippi: The Murder of Medgar Evers, the Trials of Byron De LA Beckwith, and the Haunting of the New South (Ghosts of Mississippi) - Maryanne Vollers\n",
      "7. Long Walk to Freedom : The Autobiography of Nelson Mandela Tag: The International Bestseller - Nelson Mandela\n",
      "8. Every Womans Health the Complete Guide to Body - Douglass S. Thompson\n",
      "\n"
     ]
    }
   ],
   "source": [
    "like_dislike_rec(\"Their Eyes Were Watching God\", \"The Wind Done Gone: A Novel\", 8)"
   ]
  },
  {
   "cell_type": "code",
   "execution_count": null,
   "metadata": {},
   "outputs": [],
   "source": []
  }
 ],
 "metadata": {
  "kernelspec": {
   "display_name": "Python 3",
   "language": "python",
   "name": "python3"
  },
  "language_info": {
   "codemirror_mode": {
    "name": "ipython",
    "version": 3
   },
   "file_extension": ".py",
   "mimetype": "text/x-python",
   "name": "python",
   "nbconvert_exporter": "python",
   "pygments_lexer": "ipython3",
   "version": "3.7.1"
  }
 },
 "nbformat": 4,
 "nbformat_minor": 2
}
