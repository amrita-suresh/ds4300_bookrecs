{
 "cells": [
  {
   "cell_type": "code",
   "execution_count": 29,
   "metadata": {},
   "outputs": [],
   "source": [
    "# import Neo4J-Python connector\n",
    "from py2neo import Graph\n",
    "# set up graph\n",
    "graph = Graph(\"http://localhost:7474/\", auth=(\"neo4j\", \"Ilb4mlds\"))"
   ]
  },
  {
   "cell_type": "code",
   "execution_count": 31,
   "metadata": {},
   "outputs": [],
   "source": [
    "import pandas as pd\n",
    "import numpy as np"
   ]
  },
  {
   "cell_type": "code",
   "execution_count": 32,
   "metadata": {},
   "outputs": [
    {
     "name": "stdout",
     "output_type": "stream",
     "text": [
      "Title: The Mulberry Tree by Jude Deveraux\n",
      "Title: Amelia by Diana Palmer\n",
      "Title: Slammerkin by Emma Donoghue\n",
      "Title: Harry Potter and the Goblet of Fire (Book 4) by J. K. Rowling\n",
      "Title: When the Wind Blows by John Saul\n",
      "Title: Midnight Bayou by Nora Roberts\n",
      "Title: Chobits (Chobits) by Clamp\n",
      "Title: Rebecca by Daphne Du Maurier\n",
      "Title: Anne of Green Gables (Anne of Green Gables Novels (Paperback)) by L.M. MONTGOMERY\n",
      "Title: As Long As Life: Memoirs of a Frontier Woman Doctor by Mary Canaga, Md Rowland\n"
     ]
    }
   ],
   "source": [
    "def simple_author(data):\n",
    "    df = pd.DataFrame(data, columns=['Author','Count', 'Rating', 'Score', 'Title'])\n",
    "    df['Author'] = data[\"Author\"]\n",
    "    df[\"Count\"] = data[\"Count\"]\n",
    "    df[\"Rating\"] = data[\"Rating\"]\n",
    "    df[\"Score\"] = df[\"Count\"] * df[\"Rating\"]\n",
    "    df[\"Title\"] = data[\"Title\"]\n",
    "    df = df.sort_values(by=[\"Score\"], ascending=False)\n",
    "\n",
    "    for i, row in df.iterrows():\n",
    "        if i < 10:\n",
    "            print(\"Title: \" + row[\"Title\"] + \" by \" + row[\"Author\"])\n",
    "\n",
    "\n",
    "simple_author(df)\n"
   ]
  },
  {
   "cell_type": "markdown",
   "metadata": {},
   "source": [
    "## Strategy 3: Like and Dislike\n",
    "Find all the users that like and hate the same books and return their liked book"
   ]
  },
  {
   "cell_type": "code",
   "execution_count": 107,
   "metadata": {},
   "outputs": [
    {
     "name": "stdout",
     "output_type": "stream",
     "text": [
      "1. Magic's Price (The Last Herald-Mage Series, Book 3) - Mercedes Lackey\n",
      "2. Number the Stars (Yearling Newbery) - Lois Lowry\n",
      "3. Weekend (Point Paperback) - Christopher Pike\n",
      "4. The Hero and the Crown - Robin McKinley\n",
      "5. The Lovely Bones: A Novel - Alice Sebold\n",
      "6. Secret Star - Nora Roberts\n",
      "7. Tonight and Always - Linda Lael Miller\n",
      "8. Fahrenheit 451 - RAY BRADBURY\n",
      "\n"
     ]
    }
   ],
   "source": [
    "# create a dataframe that includes all books that is likened by the users that has same like_book and dislike book \n",
    "# as you\n",
    "def find_user_by_like_dislike(like_book, dislike_book):\n",
    "    # get all the users that has the like and dislike book\n",
    "    id_results = graph.run(\"MATCH (b0:BX_Book{title:'\" + dislike_book + \"'}) <- [r0:HATED] - (u:BX_User)-[r:LOVE]->(b:BX_Book{title:'\" + like_book + \"'}) RETURN u.ID\").data()\n",
    "    data = pd.DataFrame(id_results)\n",
    "    bookDF =[]\n",
    "    # go through the list of userID, then run a cypher query to get all the book that the users like \n",
    "    # and put it in a dataframe format\n",
    "    for index, row in data.iterrows():\n",
    "        q = \"Match (u:BX_User{ID:\" + str(row[0]) + \"})-[r:LOVE]->(b:BX_Book)-[:WRITTEN_BY]->(a:Author) RETURN  b.title AS Title, r.BRating AS Rating ,a.AName as Author\"\n",
    "        book_result= graph.run(q).data()\n",
    "        d = pd.DataFrame(book_result)\n",
    "        bookDF.append(d)\n",
    "    # pull out the nested df and create a frequency count and a score accordingly\n",
    "    bookDF2 = bookDF[0]\n",
    "    bookDF2['Freq'] =  bookDF2['Title'].groupby(bookDF2['Title']).transform('count')\n",
    "    bookDF2['Score'] =bookDF2['Freq'] * bookDF2['Rating']\n",
    "    return bookDF2[['Title', 'Author', 'Score']]\n",
    "\n",
    "# Example\n",
    "find_user_by_like_dislike(\"Fahrenheit 451\", \"Animal Farm\")\n",
    "\n",
    "\n",
    "# like_book and dislike_book -> printing x recomendations\n",
    "def like_dislike_rec(like_book, dislike_book, x):\n",
    "    dataDF = find_user_by_like_dislike(like_book, dislike_book)\n",
    "    df = dataDF.sort_values(by=[\"Score\"], ascending=False)\n",
    "    count = 1\n",
    "    result_str = \"\"\n",
    "    for i, row in df.iterrows():\n",
    "        if i < x:\n",
    "            result_str += (str(count) + \". \" + row[\"Title\"] + \" - \" + row[\"Author\"] + '\\n') \n",
    "            count +=1\n",
    "    return print(result_str)\n",
    "\n",
    "\n",
    "like_dislike_rec(\"Fahrenheit 451\", \"Animal Farm\", 8)"
   ]
  }
 ],
 "metadata": {
  "kernelspec": {
   "display_name": "Python 3",
   "language": "python",
   "name": "python3"
  },
  "language_info": {
   "codemirror_mode": {
    "name": "ipython",
    "version": 3
   },
   "file_extension": ".py",
   "mimetype": "text/x-python",
   "name": "python",
   "nbconvert_exporter": "python",
   "pygments_lexer": "ipython3",
   "version": "3.7.1"
  }
 },
 "nbformat": 4,
 "nbformat_minor": 2
}
