{
 "cells": [
  {
   "cell_type": "markdown",
   "metadata": {},
   "source": [
    "# Book Recomendations Using Neo4J"
   ]
  },
  {
   "cell_type": "code",
   "execution_count": 5,
   "metadata": {},
   "outputs": [
    {
     "ename": "ModuleNotFoundError",
     "evalue": "No module named 'py2neo'",
     "output_type": "error",
     "traceback": [
      "\u001b[0;31m---------------------------------------------------------------------------\u001b[0m",
      "\u001b[0;31mModuleNotFoundError\u001b[0m                       Traceback (most recent call last)",
      "\u001b[0;32m<ipython-input-5-42d085e2e401>\u001b[0m in \u001b[0;36m<module>\u001b[0;34m()\u001b[0m\n\u001b[1;32m      1\u001b[0m \u001b[0;31m# import Neo4J-Python connector\u001b[0m\u001b[0;34m\u001b[0m\u001b[0;34m\u001b[0m\u001b[0m\n\u001b[0;32m----> 2\u001b[0;31m \u001b[0;32mfrom\u001b[0m \u001b[0mpy2neo\u001b[0m \u001b[0;32mimport\u001b[0m \u001b[0mGraph\u001b[0m\u001b[0;34m\u001b[0m\u001b[0m\n\u001b[0m\u001b[1;32m      3\u001b[0m \u001b[0;31m# set up graph\u001b[0m\u001b[0;34m\u001b[0m\u001b[0;34m\u001b[0m\u001b[0m\n\u001b[1;32m      4\u001b[0m \u001b[0mgraph\u001b[0m \u001b[0;34m=\u001b[0m \u001b[0mGraph\u001b[0m\u001b[0;34m(\u001b[0m\u001b[0;34m\"bolt://localhost:11001\"\u001b[0m\u001b[0;34m,\u001b[0m \u001b[0mauth\u001b[0m\u001b[0;34m=\u001b[0m\u001b[0;34m(\u001b[0m\u001b[0;34m\"neo4j\"\u001b[0m\u001b[0;34m,\u001b[0m \u001b[0;34m\"password\"\u001b[0m\u001b[0;34m)\u001b[0m\u001b[0;34m)\u001b[0m\u001b[0;34m\u001b[0m\u001b[0m\n",
      "\u001b[0;31mModuleNotFoundError\u001b[0m: No module named 'py2neo'"
     ]
    }
   ],
   "source": [
    "# import Neo4J-Python connector\n",
    "from py2neo import Graph\n",
    "# set up graph\n",
    "graph = Graph(\"bolt://localhost:11001\", auth=(\"neo4j\", \"password\"))"
   ]
  },
  {
   "cell_type": "markdown",
   "metadata": {},
   "source": [
    "## Method #1: Recs Based Book Title"
   ]
  },
  {
   "cell_type": "code",
   "execution_count": null,
   "metadata": {},
   "outputs": [],
   "source": [
    "# Find all user id'S that like a given book (like = rating of 8+)\n",
    "def find_similar_users(book_title):\n",
    "    id_results = graph.run(\"MATCH (b:BX_Book{title: '\" + str(book_title) + \"'})<-[r:LIKE]-(u:BX_User) RETURN u.ID \").data()\n",
    "    return id_results\n",
    "\n",
    "# example\n",
    "ex1_users = find_similar_users('To Kill a Mockingbird')\n",
    "ex1_users\n",
    "      "
   ]
  },
  {
   "cell_type": "code",
   "execution_count": null,
   "metadata": {},
   "outputs": [],
   "source": [
    "# Given a list of users, find all books that they like and make a dataframe of the book names and ratings\n",
    "def find_books_from_users(user_list):\n",
    "    book_results = []\n",
    "    for user in user_list:\n",
    "        book_results.append(graph.run(\"MATCH (n:Author)<-[:WRITTEN_BY]-(b:BX_Book)<-[r:LIKE]-(u:BX_User{ID:\" + \n",
    "                                      str(user[\"u.ID\"]) + \"}) RETURN b.title, n.AName, r.BRating\").data())\n",
    "    return book_results\n",
    "\n",
    "# example\n",
    "ex1_books = find_books_from_users(ex1_users)\n",
    "ex1_books"
   ]
  },
  {
   "cell_type": "code",
   "execution_count": null,
   "metadata": {},
   "outputs": [],
   "source": [
    "# creating a dataframe from the book and rating info using pandas\n",
    "import pandas as pd\n",
    "import numpy as np\n",
    "\n",
    "# book title -> data frame\n",
    "# uses previous functions to find books liked by users who liked input book\n",
    "# finds amount of reviews each book has and the sum of them \n",
    "def make_df(book_title):\n",
    "    # creating the list of books liked by users who like the same book\n",
    "    books = find_books_from_users(find_similar_users(book_title))\n",
    "    # initializing data list\n",
    "    data_dict = {}\n",
    "    # looping through list of list of dictionaries of book tiles/ratings\n",
    "    for user_data in books:\n",
    "        for book in user_data:\n",
    "            # filter out book title input\n",
    "            if book['b.title'] != book_title:\n",
    "                title = book['b.title']\n",
    "                rating = int(book['r.BRating'])\n",
    "                author = book['n.AName']\n",
    "                # fix '&' not showing up correctly\n",
    "                title = title.replace(\"&amp;\", \"&\")\n",
    "                # addressing duplicate books\n",
    "                if title not in data_dict.keys():\n",
    "                    data_dict[title] = [rating, author] \n",
    "                else: \n",
    "                    # rating column will be total ratings\n",
    "                    data_dict[title] = [data_dict[title][0] + rating, author]            \n",
    "    # setting up \n",
    "    book_names = []\n",
    "    authors = []\n",
    "    ratings = []\n",
    "    for k,v in data_dict.items():\n",
    "        book_names.append(k)\n",
    "        authors.append(v[0])\n",
    "        ratings.append(v[1])\n",
    "    data = []\n",
    "    data.append(book_names)\n",
    "    data.append(authors)\n",
    "    data.append(ratings)\n",
    "    df = pd.DataFrame(data).T\n",
    "    df.columns = [\"Title\", \"Ratings\", \"Author\"]\n",
    "    # sort by total ratings\n",
    "    sorted_df = df.sort_values(by=['Ratings'], ascending=[False])\n",
    "    return sorted_df\n",
    "        \n",
    "df_results = make_df(\"The Color of Magic\")[0:10]\n",
    "df_results"
   ]
  },
  {
   "cell_type": "code",
   "execution_count": null,
   "metadata": {},
   "outputs": [],
   "source": [
    "# string, int -> list\n",
    "# book title, # of results desired -> list of recomended titles \n",
    "def review_weight_recomend(book_title, number_results):\n",
    "    df = make_df(book_title)\n",
    "    results = []\n",
    "    for index, rows in df.iterrows():\n",
    "        results.append([rows[0], rows[2]])\n",
    "    return results[0:number_results]\n",
    "          \n",
    "print(review_weight_recomend(\"The Color of Magic\", 5))"
   ]
  },
  {
   "cell_type": "code",
   "execution_count": null,
   "metadata": {},
   "outputs": [],
   "source": [
    "# Prints out the recomendations in a semi-pleasing manner \n",
    "def print_book_recs(book_title, number_results):\n",
    "    result_list = review_weight_recomend(book_title, number_results)\n",
    "    count = 1\n",
    "    end_result = []\n",
    "    for result in result_list:\n",
    "        str_result = (str(count) + \". \" + result[0] + \" - \" + result[1])\n",
    "        end_result.append(str_result)\n",
    "        count +=1\n",
    "    return print('\\n'.join(end_result))\n",
    "        \n",
    "print_book_recs(\"The Color of Magic\", 10)"
   ]
  },
  {
   "cell_type": "markdown",
   "metadata": {},
   "source": [
    "## Method #2: Recs Based on Favorite Author"
   ]
  },
  {
   "cell_type": "code",
   "execution_count": null,
   "metadata": {},
   "outputs": [],
   "source": [
    "# Find all book written by author\n",
    "# author name -> list of books\n",
    "def find_book_by_auth(auth_name):\n",
    "    id_results = graph.run(\"MATCH (a:Author{AName: '\" + auth_name + \"'})<-[r:WRITTEN_BY]-(b:BX_Book)<-[r2:LIKE] \\\n",
    "                            -(u:BX_User)-[r3:LIKE]->(b2:BX_Book)-[r4:WRITTEN_BY]->(a2:Author) \\\n",
    "                            RETURN a2.AName as Author, b2.title as Title, r3.BRating AS Rating, \\\n",
    "                            count(b2.ISBN) as Count order by count(b2.ISBN) desc\").data()\n",
    "    return id_results\n",
    "\n",
    "\n",
    "# author name -> printing x recomendations\n",
    "def simple_author_recs(auth_name, x):\n",
    "    data = pd.DataFrame(find_book_by_auth(auth_name))\n",
    "    df = pd.DataFrame(data, columns=['Author','Count', 'Rating', 'Score', 'Title'])\n",
    "    df['Author'] = data[\"Author\"]\n",
    "    df[\"Count\"] = data[\"Count\"]\n",
    "    df[\"Rating\"] = data[\"Rating\"]\n",
    "    df[\"Score\"] = df[\"Count\"] * df[\"Rating\"]\n",
    "    df[\"Title\"] = data[\"Title\"]\n",
    "    df = df.sort_values(by=[\"Score\"], ascending=False)\n",
    "    count = 1\n",
    "    result_str = \"\"\n",
    "    for i, row in df.iterrows():\n",
    "        if i < x:\n",
    "            result_str += (str(count) + \". \" + row[\"Title\"] + \" - \" + row[\"Author\"] + '\\n') \n",
    "            count +=1\n",
    "    return print(result_str)\n",
    "\n",
    "# example\n",
    "simple_author_recs(\"John Green\", 5)"
   ]
  },
  {
   "cell_type": "markdown",
   "metadata": {},
   "source": [
    "## Methods 1 + 2 Driver:"
   ]
  },
  {
   "cell_type": "code",
   "execution_count": null,
   "metadata": {},
   "outputs": [],
   "source": [
    "def get_recomendation(fav, fav_type, amount=5):\n",
    "    if fav_type == \"author\":\n",
    "        return simple_author_recs(fav, amount)\n",
    "    if fav_type == \"book\":\n",
    "        return print_book_recs(fav, amount)\n",
    "    else: \n",
    "        return \"Please put in a valid type\""
   ]
  },
  {
   "cell_type": "code",
   "execution_count": 6,
   "metadata": {},
   "outputs": [
    {
     "ename": "NameError",
     "evalue": "name 'get_recomendation' is not defined",
     "output_type": "error",
     "traceback": [
      "\u001b[0;31m---------------------------------------------------------------------------\u001b[0m",
      "\u001b[0;31mNameError\u001b[0m                                 Traceback (most recent call last)",
      "\u001b[0;32m<ipython-input-6-30eb3db54a9f>\u001b[0m in \u001b[0;36m<module>\u001b[0;34m()\u001b[0m\n\u001b[1;32m      1\u001b[0m \u001b[0;31m# example for author\u001b[0m\u001b[0;34m\u001b[0m\u001b[0;34m\u001b[0m\u001b[0m\n\u001b[0;32m----> 2\u001b[0;31m \u001b[0mget_recomendation\u001b[0m\u001b[0;34m(\u001b[0m\u001b[0;34m\"John Green\"\u001b[0m\u001b[0;34m,\u001b[0m \u001b[0;34m\"author\"\u001b[0m\u001b[0;34m)\u001b[0m\u001b[0;34m\u001b[0m\u001b[0m\n\u001b[0m",
      "\u001b[0;31mNameError\u001b[0m: name 'get_recomendation' is not defined"
     ]
    }
   ],
   "source": [
    "# example for author\n",
    "get_recomendation(\"John Green\", \"author\")"
   ]
  },
  {
   "cell_type": "code",
   "execution_count": null,
   "metadata": {},
   "outputs": [],
   "source": [
    "# example for book\n",
    "get_recomendation(\"The Color of Magic\", \"book\", 10)"
   ]
  },
  {
   "cell_type": "markdown",
   "metadata": {},
   "source": [
    "## Method #3: Recs Based on 5 Favorite Titles - Non Matrix Factorization "
   ]
  },
  {
   "cell_type": "code",
   "execution_count": null,
   "metadata": {},
   "outputs": [],
   "source": [
    "get_recomendation('Life of Pi', 'book', 4)"
   ]
  },
  {
   "cell_type": "code",
   "execution_count": null,
   "metadata": {},
   "outputs": [],
   "source": []
  }
 ],
 "metadata": {
  "kernelspec": {
   "display_name": "Python 3",
   "language": "python",
   "name": "python3"
  },
  "language_info": {
   "codemirror_mode": {
    "name": "ipython",
    "version": 3
   },
   "file_extension": ".py",
   "mimetype": "text/x-python",
   "name": "python",
   "nbconvert_exporter": "python",
   "pygments_lexer": "ipython3",
   "version": "3.6.5"
  }
 },
 "nbformat": 4,
 "nbformat_minor": 2
}
